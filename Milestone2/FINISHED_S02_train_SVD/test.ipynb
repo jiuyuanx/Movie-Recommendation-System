{
 "cells": [
  {
   "cell_type": "code",
   "execution_count": 43,
   "metadata": {},
   "outputs": [],
   "source": [
    "# Glenn Xu\n",
    "\n",
    "import pandas as pd\n",
    "from surprise import Reader, Dataset\n",
    "from surprise import SVD, model_selection\n",
    "import joblib\n",
    "from scipy.spatial.distance import hamming\n",
    "from helper_modules.fetch_from_API import get_user_info\n",
    "import pandas as pd\n",
    "from surprise import SVD\n",
    "import joblib\n",
    "from tqdm import tqdm\n",
    "import numpy as np\n",
    "from scipy.spatial.distance import hamming, cdist\n",
    "\n",
    "def read_user_info():\n",
    "    return pd.read_csv('/home/team25/Milestone2/_SHARED_DATA_POOL/training_set/user.csv')\n",
    "\n",
    "\n",
    "def find_similar_users(new_user_info, user_info_df):\n",
    "    min_distance = float('inf')\n",
    "    closest_user_id = None\n",
    "    for index, row in user_info_df.iterrows():\n",
    "        distance = hamming([row['age'], row['occupation'], row['gender']],\n",
    "                           [new_user_info['age'], new_user_info['occupation'], new_user_info['gender']])\n",
    "        if distance <= 0:\n",
    "            return row['user_id']\n",
    "        elif distance < min_distance:\n",
    "            min_distance = distance\n",
    "            closest_user_id = row['user_id']\n",
    "    return closest_user_id\n",
    "\n",
    "\n",
    "def recommend_movies(user_id, model, df, user_info_df, prepare_df, user_cache, top_n=20):\n",
    "    user_id = int(user_id)\n",
    "    if (user_id not in list(user_info_df['user_id'])):\n",
    "        if (user_id not in list(user_cache['user_id'])):\n",
    "            user_id = find_similar_users(get_user_info(user_id), user_info_df)\n",
    "        else:\n",
    "            age = int(user_cache.loc[user_cache['user_id'] == user_id, 'age'].iloc[0])\n",
    "            occupation = str(user_cache.loc[user_cache['user_id'] == user_id, 'occupation'].iloc[0])\n",
    "            gender = str(user_cache.loc[user_cache['user_id'] == user_id, 'gender'].iloc[0])\n",
    "            usr_dict = {'user_id': 1, 'age': age, 'occupation': occupation, 'gender': gender}\n",
    "            user_id = find_similar_users(usr_dict, user_info_df)\n",
    "            print(user_id)\n",
    "\n",
    "    movie_list = prepare_df.loc[prepare_df['user_id'] == user_id, 'recommended_movies'].iloc[0].split('\\', \\'')\n",
    "    movie_list[0] = movie_list[0][2:]\n",
    "    movie_list[-1] = movie_list[-1][:-2]\n",
    "    return movie_list\n",
    "\n"
   ]
  },
  {
   "cell_type": "code",
   "execution_count": 44,
   "metadata": {},
   "outputs": [
    {
     "name": "stdout",
     "output_type": "stream",
     "text": [
      "169830\n"
     ]
    },
    {
     "data": {
      "text/plain": [
       "['the+godfather+1972',\n",
       " 'the+lord+of+the+rings+the+return+of+the+king+2003',\n",
       " 'harry+potter+and+the+deathly+hallows+part+2+2011',\n",
       " 'schindlers+list+1993',\n",
       " 'return+of+the+jedi+1983',\n",
       " 'the+shawshank+redemption+1994',\n",
       " 'rear+window+1954',\n",
       " 'the+lives+of+others+2006',\n",
       " 'raiders+of+the+lost+ark+1981',\n",
       " 'my+neighbor+totoro+1988',\n",
       " 'the+usual+suspects+1995',\n",
       " 'the+empire+strikes+back+1980',\n",
       " 'casablanca+1942',\n",
       " 'the+dark+knight+2008',\n",
       " 'nightcrawler+2014',\n",
       " 'american+beauty+1999',\n",
       " 'pulp+fiction+1994',\n",
       " 'nanook+of+the+north+1922',\n",
       " 'when+we+were+kings+1996',\n",
       " 'first+blood+1982']"
      ]
     },
     "execution_count": 44,
     "metadata": {},
     "output_type": "execute_result"
    }
   ],
   "source": [
    "\n",
    "model = joblib.load('/home/team25/Milestone2/_SHARED_DATA_POOL/model/svd_model.joblib')\n",
    "df = pd.read_csv('/home/team25/Milestone2/_SHARED_DATA_POOL/training_set/rate_log.csv')\n",
    "user_info_df = pd.read_csv('/home/team25/Milestone2/_SHARED_DATA_POOL/training_set/user.csv')\n",
    "prepare_df = pd.read_csv('/home/team25/Milestone2/_SHARED_DATA_POOL/model/recommendations.csv', sep='\\t')\n",
    "user_cache = pd.read_csv('/home/team25/Milestone2/_SHARED_DATA_POOL/cache/user.csv')\n",
    "\n",
    "recommend_movies(2, model, df, user_info_df, prepare_df, user_cache)\n"
   ]
  },
  {
   "cell_type": "code",
   "execution_count": 39,
   "metadata": {},
   "outputs": [
    {
     "data": {
      "text/plain": [
       "['the+godfather+1972',\n",
       " 'the+lord+of+the+rings+the+return+of+the+king+2003',\n",
       " 'harry+potter+and+the+deathly+hallows+part+2+2011',\n",
       " 'schindlers+list+1993',\n",
       " 'return+of+the+jedi+1983',\n",
       " 'the+shawshank+redemption+1994',\n",
       " 'rear+window+1954',\n",
       " 'the+lives+of+others+2006',\n",
       " 'raiders+of+the+lost+ark+1981',\n",
       " 'my+neighbor+totoro+1988',\n",
       " 'the+usual+suspects+1995',\n",
       " 'the+empire+strikes+back+1980',\n",
       " 'casablanca+1942',\n",
       " 'the+dark+knight+2008',\n",
       " 'nightcrawler+2014',\n",
       " 'american+beauty+1999',\n",
       " 'pulp+fiction+1994',\n",
       " 'nanook+of+the+north+1922',\n",
       " 'when+we+were+kings+1996',\n",
       " 'first+blood+1982']"
      ]
     },
     "execution_count": 39,
     "metadata": {},
     "output_type": "execute_result"
    }
   ],
   "source": [
    "recommend_movies(2, model, df, user_info_df, prepare_df, user_cache)\n",
    "recommend_movies(2, model, df, user_info_df, prepare_df, user_cache)\n",
    "recommend_movies(2, model, df, user_info_df, prepare_df, user_cache)\n",
    "recommend_movies(2, model, df, user_info_df, prepare_df, user_cache)\n",
    "recommend_movies(2, model, df, user_info_df, prepare_df, user_cache)\n",
    "recommend_movies(2, model, df, user_info_df, prepare_df, user_cache)\n",
    "recommend_movies(2, model, df, user_info_df, prepare_df, user_cache)\n",
    "recommend_movies(2, model, df, user_info_df, prepare_df, user_cache)\n",
    "recommend_movies(2, model, df, user_info_df, prepare_df, user_cache)\n",
    "recommend_movies(2, model, df, user_info_df, prepare_df, user_cache)"
   ]
  },
  {
   "cell_type": "code",
   "execution_count": 40,
   "metadata": {},
   "outputs": [
    {
     "ename": "TypeError",
     "evalue": "find_similar_users() missing 1 required positional argument: 'user_info_df'",
     "output_type": "error",
     "traceback": [
      "\u001b[0;31m---------------------------------------------------------------------------\u001b[0m",
      "\u001b[0;31mTypeError\u001b[0m                                 Traceback (most recent call last)",
      "Cell \u001b[0;32mIn[40], line 1\u001b[0m\n\u001b[0;32m----> 1\u001b[0m \u001b[43mfind_similar_users\u001b[49m\u001b[43m(\u001b[49m\u001b[38;5;241;43m2\u001b[39;49m\u001b[43m)\u001b[49m\n",
      "\u001b[0;31mTypeError\u001b[0m: find_similar_users() missing 1 required positional argument: 'user_info_df'"
     ]
    }
   ],
   "source": [
    "find_similar_users(2)"
   ]
  },
  {
   "cell_type": "code",
   "execution_count": null,
   "metadata": {},
   "outputs": [],
   "source": []
  }
 ],
 "metadata": {
  "kernelspec": {
   "display_name": "base",
   "language": "python",
   "name": "python3"
  },
  "language_info": {
   "codemirror_mode": {
    "name": "ipython",
    "version": 3
   },
   "file_extension": ".py",
   "mimetype": "text/x-python",
   "name": "python",
   "nbconvert_exporter": "python",
   "pygments_lexer": "ipython3",
   "version": "3.11.5"
  }
 },
 "nbformat": 4,
 "nbformat_minor": 2
}
