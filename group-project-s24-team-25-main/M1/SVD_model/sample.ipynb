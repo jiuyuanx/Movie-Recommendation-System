{
 "cells": [
  {
   "cell_type": "code",
   "execution_count": 1,
   "metadata": {},
   "outputs": [
    {
     "name": "stdout",
     "output_type": "stream",
     "text": [
      "   user_id                    movie_id  rate\n",
      "0   160766       the+tigger+movie+2000     4\n",
      "1   165531   ring+of+bright+water+1969     3\n",
      "2   209904        a+grand+day+out+1990     4\n",
      "3    99425  the+french+connection+1971     4\n",
      "4   180714     the+princess+bride+1987     4\n",
      "Evaluating RMSE, MAE of algorithm SVD on 5 split(s).\n",
      "\n",
      "                  Fold 1  Fold 2  Fold 3  Fold 4  Fold 5  Mean    Std     \n",
      "RMSE (testset)    0.9024  0.9000  0.9047  0.9069  0.9042  0.9036  0.0023  \n",
      "MAE (testset)     0.7073  0.7064  0.7093  0.7117  0.7105  0.7090  0.0020  \n",
      "Fit time          6.16    6.35    6.39    6.37    6.35    6.32    0.08    \n",
      "Test time         0.80    0.94    0.80    0.94    0.79    0.86    0.07    \n"
     ]
    }
   ],
   "source": [
    "# Train the model\n",
    "!python3 train.py"
   ]
  },
  {
   "cell_type": "code",
   "execution_count": 1,
   "metadata": {},
   "outputs": [
    {
     "name": "stdout",
     "output_type": "stream",
     "text": [
      "['the+lord+of+the+rings+the+return+of+the+king+2003', 'city+lights+1931', 'donnie+darko+2001', 'the+lord+of+the+rings+the+fellowship+of+the+ring+2001', 'life+is+beautiful+1997', 'duck+soup+1933', 'the+silence+of+the+lambs+1991', 'the+lives+of+others+2006', 'incendies+2010', 'the+shining+1980', 'fight+club+1999', 'the+lord+of+the+rings+the+two+towers+2002', 'a+close+shave+1995', 'the+shawshank+redemption+1994', 'dr.+strangelove+or+how+i+learned+to+stop+worrying+and+love+the+bomb+1964', 'ikiru+1952', '3-iron+2004', 'secondhand+lions+2003', 'glory+1989', 'underground+1995']\n"
     ]
    }
   ],
   "source": [
    "# Predict sample\n",
    "# Before using, please correct the paths\n",
    "from predict import recommend_movies\n",
    "\n",
    "rec_movies = recommend_movies(test_user_ido.csv', top_n=20)\n",
    "print(rec_movies), model_path='./model/svd_model.joblib', data_path='./data/rate_log.csv', user_info_path='./data/user_inf"
   ]
  },
  {
   "cell_type": "code",
   "execution_count": null,
   "metadata": {},
   "outputs": [],
   "source": []
  }
 ],
 "metadata": {
  "kernelspec": {
   "display_name": "Python 3",
   "language": "python",
   "name": "python3"
  },
  "language_info": {
   "codemirror_mode": {
    "name": "ipython",
    "version": 3
   },
   "file_extension": ".py",
   "mimetype": "text/x-python",
   "name": "python",
   "nbconvert_exporter": "python",
   "pygments_lexer": "ipython3",
   "version": "3.8.10"
  }
 },
 "nbformat": 4,
 "nbformat_minor": 2
}
