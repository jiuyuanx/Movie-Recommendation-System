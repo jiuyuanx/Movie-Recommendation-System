{
  "nbformat": 4,
  "nbformat_minor": 0,
  "metadata": {
    "colab": {
      "provenance": [],
      "machine_shape": "hm"
    },
    "kernelspec": {
      "name": "python3",
      "display_name": "Python 3"
    },
    "language_info": {
      "name": "python"
    }
  },
  "cells": [
    {
      "cell_type": "code",
      "source": [
        "\n",
        "import random\n",
        "import numpy as np\n",
        "import pandas as pd\n",
        "import numpy as np\n",
        "from tqdm.auto import tqdm\n",
        "import os\n",
        "import gc\n",
        "from matplotlib import pyplot as plt\n",
        "import datetime\n",
        "from sklearn.metrics import mean_squared_error, mean_absolute_error\n",
        "from xgboost import XGBRegressor\n",
        "import xgboost as xgb\n",
        "import pickle\n",
        "\n",
        "def init(load_path):\n",
        "  with open(load_path+'uid_user.pkl', 'rb') as f:\n",
        "      uid_user = pickle.load(f)\n",
        "  with open(load_path+'mid_movie.pkl', 'rb') as f:\n",
        "      mid_movie = pickle.load(f)\n",
        "  with open(load_path+'movie_mid.pkl', 'rb') as f:\n",
        "      movie_mid = pickle.load(f)\n",
        "  with open(load_path+'user_uid.pkl', 'rb') as f:\n",
        "      user_uid = pickle.load(f)\n",
        "\n",
        "  # global xgb_model\n",
        "  xgb_model = xgb.Booster()\n",
        "  xgb_model.load_model(load_path+'xgb_model.json')\n",
        "\n",
        "  df_mm = pd.read_csv(load_path+\"movie_all_features.csv\", index_col=0)\n",
        "  df_uu = pd.read_csv(load_path+\"user_all_features.csv\", index_col=0)\n",
        "  df_mm['mid'] = df_mm['movie_id'].apply(lambda x:movie_mid[x])\n",
        "  df_mm      = df_mm.drop(columns=['movie_id'])\n",
        "  df_mm = pd.get_dummies(df_mm).reset_index(drop=True)\n",
        "  xgb_features = pd.read_csv(load_path+\"xgb_features.csv\", index_col=0)\n",
        "  return uid_user, mid_movie, movie_mid, user_uid, xgb_model, df_mm, df_uu, xgb_features\n",
        "\n",
        "\n",
        "def date_encoding(data):\n",
        "  data['day_of_week'] = pd.to_datetime(data['time']).dt.dayofweek.astype(int)\n",
        "  data['is_weekend'] = (data['day_of_week'] >= 5).astype(int)\n",
        "  data['hour'] = pd.to_datetime(data['time']).dt.hour.astype(int)\n",
        "  data['hour_sin'] = np.sin(data['hour'] * (2. * np.pi / 24))\n",
        "  data['hour_cos'] = np.cos(data['hour'] * (2. * np.pi / 24))\n",
        "  data['day_of_week_sin'] = np.sin(data['day_of_week'] * (2. * np.pi / 7))\n",
        "  data['day_of_week_cos'] = np.cos(data['day_of_week'] * (2. * np.pi / 7))\n",
        "  data['release_date'] = pd.to_datetime(data['release_date']).dt.year\n",
        "\n",
        "  return data.drop(columns=['time'])\n",
        "\n",
        "def inference_set_up(user_id, df_user, df_movie, \\\n",
        "                     user_mapping,  movie_mapping, feature_name, time='2023-12-27 16:23:09'):\n",
        "  df_merged = df_movie\n",
        "  user_feature = df_user[df_user['user_id']==user_id].reset_index(drop=True).iloc[0:1]\n",
        "  if len(user_feature)==0:\n",
        "    u_col = list(df_user.columns)[1:]\n",
        "    u_fea = [20.]+[0.]*(len(u_col)-1)\n",
        "  for column in user_feature.columns:\n",
        "    df_merged[column] = user_feature[column].values[0]   #append this user's feature to all movies\n",
        "  df_merged['time'] =[time]* len(df_merged) ##append time feature to all movies\n",
        "  df_merged = date_encoding(df_merged)\n",
        "  X_inference = df_merged.loc[:, list(feature_name.columns)]\n",
        "\n",
        "  return X_inference\n",
        "\n",
        "def inference(user_id, X_inference, movie_mapping , model, number_rec=20):\n",
        "  predictions  = model.predict(xgb.DMatrix(X_inference))\n",
        "  sorted_indices = np.argsort(-predictions)[:number_rec]\n",
        "\n",
        "  return  predictions[sorted_indices], sorted_indices, [movie_mapping[i] for i in sorted_indices]\n",
        "\n"
      ],
      "metadata": {
        "id": "YAVCxKGSIsTX"
      },
      "execution_count": 7,
      "outputs": []
    },
    {
      "cell_type": "code",
      "source": [
        "import time\n",
        "start = time.time()\n",
        "uid_user, mid_movie, movie_mid, user_uid, xgb_model, df_mm, df_uu, xgb_features = init('/content/drive/MyDrive/movie_rec/')\n",
        "\n",
        "start1 = time.time()\n",
        "X_inference=inference_set_up(1, df_uu, df_mm, user_uid,movie_mid, xgb_features, '2023-12-27 16:23:09')\n",
        "rate, ind, rec = inference(1, X_inference, movie_mapping = mid_movie, model=xgb_model, number_rec = 20)\n",
        "print(rec)\n",
        "print('Inference Loading file time:', time.time()-start, \"Seconds\")\n",
        "print('Inference Prediction time:', time.time()-start1, \"Seconds\")"
      ],
      "metadata": {
        "colab": {
          "base_uri": "https://localhost:8080/"
        },
        "id": "wpK8KYGo9ptY",
        "outputId": "21d05d64-bc72-4be5-a045-18d34a24ac74"
      },
      "execution_count": 8,
      "outputs": [
        {
          "output_type": "stream",
          "name": "stdout",
          "text": [
            "['wild+america+1997', 'grandmother+2009', 'mud+2013', 'the+song+of+sparrows+2008', 'penelope+2006', 'pornorama+2007', 'bloody+territories+1969', 'sun+on+the+horizon+1996', 'billy+elliot+2000', 'war+of+the+worlds+2+the+next+wave+2008', 'amish+grace+2010', 'into+the+night+1985', 'wild+target+2010', 'the+unknown+woman+2011', 'carrie+1952', '8+1963', 'the+celebration+1998', 'love+hina+christmas+special+silent+eve+2000', 'the+set-up+1949', 'knightriders+1981']\n",
            "Inference Loading file time: 1.5694942474365234 Seconds\n",
            "Inference Prediction time: 0.22533273696899414 Seconds\n"
          ]
        }
      ]
    },
    {
      "cell_type": "code",
      "source": [],
      "metadata": {
        "id": "E_MUD5Iz-RM4"
      },
      "execution_count": null,
      "outputs": []
    }
  ]
}